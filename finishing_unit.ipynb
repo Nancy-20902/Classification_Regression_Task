{
 "cells": [
  {
   "cell_type": "code",
   "execution_count": 1,
   "id": "34a7956f",
   "metadata": {},
   "outputs": [],
   "source": [
    "import numpy as np\n",
    "import pandas as pd\n",
    "import matplotlib.pyplot as plt\n",
    "import seaborn as sns"
   ]
  },
  {
   "cell_type": "code",
   "execution_count": 2,
   "id": "b4d2419d",
   "metadata": {},
   "outputs": [
    {
     "data": {
      "text/html": [
       "<div>\n",
       "<style scoped>\n",
       "    .dataframe tbody tr th:only-of-type {\n",
       "        vertical-align: middle;\n",
       "    }\n",
       "\n",
       "    .dataframe tbody tr th {\n",
       "        vertical-align: top;\n",
       "    }\n",
       "\n",
       "    .dataframe thead th {\n",
       "        text-align: right;\n",
       "    }\n",
       "</style>\n",
       "<table border=\"1\" class=\"dataframe\">\n",
       "  <thead>\n",
       "    <tr style=\"text-align: right;\">\n",
       "      <th></th>\n",
       "      <th>recordDate</th>\n",
       "      <th>fiscalQuarter</th>\n",
       "      <th>productionDept</th>\n",
       "      <th>dayOfWeek</th>\n",
       "      <th>team</th>\n",
       "      <th>plannedEfficiency</th>\n",
       "      <th>standardMinuteValue</th>\n",
       "      <th>workInProgress</th>\n",
       "      <th>overtimeMinutes</th>\n",
       "      <th>performanceBonus</th>\n",
       "      <th>idleMinutes</th>\n",
       "      <th>idleWorkers</th>\n",
       "      <th>styleChangeCount</th>\n",
       "      <th>workerCount</th>\n",
       "      <th>efficiencyScore</th>\n",
       "    </tr>\n",
       "  </thead>\n",
       "  <tbody>\n",
       "    <tr>\n",
       "      <th>0</th>\n",
       "      <td>2/24/2015</td>\n",
       "      <td>Q4</td>\n",
       "      <td>Stitching Unit</td>\n",
       "      <td>Tuesday</td>\n",
       "      <td>Line-S1</td>\n",
       "      <td>0.6</td>\n",
       "      <td>22.53</td>\n",
       "      <td>708.0</td>\n",
       "      <td>5040</td>\n",
       "      <td>0</td>\n",
       "      <td>0.0</td>\n",
       "      <td>0</td>\n",
       "      <td>Minor Style Revision</td>\n",
       "      <td>42.0</td>\n",
       "      <td>0.268214</td>\n",
       "    </tr>\n",
       "    <tr>\n",
       "      <th>1</th>\n",
       "      <td>1/19/2015</td>\n",
       "      <td>Q3</td>\n",
       "      <td>Stitching Unit</td>\n",
       "      <td>Monday</td>\n",
       "      <td>Line-F3</td>\n",
       "      <td>0.8</td>\n",
       "      <td>11.41</td>\n",
       "      <td>1028.0</td>\n",
       "      <td>4380</td>\n",
       "      <td>50</td>\n",
       "      <td>0.0</td>\n",
       "      <td>0</td>\n",
       "      <td>No Style Change</td>\n",
       "      <td>31.0</td>\n",
       "      <td>0.800359</td>\n",
       "    </tr>\n",
       "    <tr>\n",
       "      <th>2</th>\n",
       "      <td>01-06-2015</td>\n",
       "      <td>Q1</td>\n",
       "      <td>Finishing &amp; Quality</td>\n",
       "      <td>Tuesday</td>\n",
       "      <td>Line-C2</td>\n",
       "      <td>0.8</td>\n",
       "      <td>2.90</td>\n",
       "      <td>NaN</td>\n",
       "      <td>1440</td>\n",
       "      <td>0</td>\n",
       "      <td>0.0</td>\n",
       "      <td>0</td>\n",
       "      <td>No Style Change</td>\n",
       "      <td>8.0</td>\n",
       "      <td>0.681061</td>\n",
       "    </tr>\n",
       "    <tr>\n",
       "      <th>3</th>\n",
       "      <td>2/24/2015</td>\n",
       "      <td>Q4</td>\n",
       "      <td>Finishing &amp; Quality</td>\n",
       "      <td>Tuesday</td>\n",
       "      <td>Line-S2</td>\n",
       "      <td>0.7</td>\n",
       "      <td>3.90</td>\n",
       "      <td>NaN</td>\n",
       "      <td>960</td>\n",
       "      <td>0</td>\n",
       "      <td>0.0</td>\n",
       "      <td>0</td>\n",
       "      <td>No Style Change</td>\n",
       "      <td>8.0</td>\n",
       "      <td>0.325000</td>\n",
       "    </tr>\n",
       "    <tr>\n",
       "      <th>4</th>\n",
       "      <td>01-04-2015</td>\n",
       "      <td>Q1</td>\n",
       "      <td>Finishing &amp; Quality</td>\n",
       "      <td>Sunday</td>\n",
       "      <td>Line-C1</td>\n",
       "      <td>0.8</td>\n",
       "      <td>2.90</td>\n",
       "      <td>NaN</td>\n",
       "      <td>960</td>\n",
       "      <td>0</td>\n",
       "      <td>0.0</td>\n",
       "      <td>0</td>\n",
       "      <td>No Style Change</td>\n",
       "      <td>8.0</td>\n",
       "      <td>0.667604</td>\n",
       "    </tr>\n",
       "  </tbody>\n",
       "</table>\n",
       "</div>"
      ],
      "text/plain": [
       "   recordDate fiscalQuarter         productionDept dayOfWeek     team  \\\n",
       "0   2/24/2015            Q4         Stitching Unit   Tuesday  Line-S1   \n",
       "1   1/19/2015            Q3         Stitching Unit    Monday  Line-F3   \n",
       "2  01-06-2015            Q1   Finishing & Quality    Tuesday  Line-C2   \n",
       "3   2/24/2015            Q4    Finishing & Quality   Tuesday  Line-S2   \n",
       "4  01-04-2015            Q1   Finishing & Quality     Sunday  Line-C1   \n",
       "\n",
       "   plannedEfficiency  standardMinuteValue  workInProgress  overtimeMinutes  \\\n",
       "0                0.6                22.53           708.0             5040   \n",
       "1                0.8                11.41          1028.0             4380   \n",
       "2                0.8                 2.90             NaN             1440   \n",
       "3                0.7                 3.90             NaN              960   \n",
       "4                0.8                 2.90             NaN              960   \n",
       "\n",
       "   performanceBonus  idleMinutes  idleWorkers      styleChangeCount  \\\n",
       "0                 0          0.0            0  Minor Style Revision   \n",
       "1                50          0.0            0       No Style Change   \n",
       "2                 0          0.0            0       No Style Change   \n",
       "3                 0          0.0            0       No Style Change   \n",
       "4                 0          0.0            0       No Style Change   \n",
       "\n",
       "   workerCount  efficiencyScore  \n",
       "0         42.0         0.268214  \n",
       "1         31.0         0.800359  \n",
       "2          8.0         0.681061  \n",
       "3          8.0         0.325000  \n",
       "4          8.0         0.667604  "
      ]
     },
     "execution_count": 2,
     "metadata": {},
     "output_type": "execute_result"
    }
   ],
   "source": [
    "df = pd.read_csv('manufacturing_data.csv')\n",
    "df.head()"
   ]
  },
  {
   "cell_type": "code",
   "execution_count": 3,
   "metadata": {},
   "outputs": [
    {
     "data": {
      "text/plain": [
       "(1197, 15)"
      ]
     },
     "execution_count": 3,
     "metadata": {},
     "output_type": "execute_result"
    }
   ],
   "source": [
    "df.shape"
   ]
  },
  {
   "cell_type": "code",
   "execution_count": 4,
   "id": "e0959757",
   "metadata": {},
   "outputs": [
    {
     "name": "stdout",
     "output_type": "stream",
     "text": [
      "<class 'pandas.core.frame.DataFrame'>\n",
      "RangeIndex: 1197 entries, 0 to 1196\n",
      "Data columns (total 15 columns):\n",
      " #   Column               Non-Null Count  Dtype  \n",
      "---  ------               --------------  -----  \n",
      " 0   recordDate           1197 non-null   object \n",
      " 1   fiscalQuarter        1197 non-null   object \n",
      " 2   productionDept       1197 non-null   object \n",
      " 3   dayOfWeek            1197 non-null   object \n",
      " 4   team                 1197 non-null   object \n",
      " 5   plannedEfficiency    1197 non-null   float64\n",
      " 6   standardMinuteValue  1197 non-null   float64\n",
      " 7   workInProgress       691 non-null    float64\n",
      " 8   overtimeMinutes      1197 non-null   int64  \n",
      " 9   performanceBonus     1197 non-null   int64  \n",
      " 10  idleMinutes          1197 non-null   float64\n",
      " 11  idleWorkers          1197 non-null   int64  \n",
      " 12  styleChangeCount     1197 non-null   object \n",
      " 13  workerCount          1197 non-null   float64\n",
      " 14  efficiencyScore      1197 non-null   float64\n",
      "dtypes: float64(6), int64(3), object(6)\n",
      "memory usage: 140.4+ KB\n"
     ]
    }
   ],
   "source": [
    "df.info()"
   ]
  },
  {
   "cell_type": "code",
   "execution_count": 5,
   "id": "429bc636",
   "metadata": {},
   "outputs": [
    {
     "data": {
      "text/html": [
       "<div>\n",
       "<style scoped>\n",
       "    .dataframe tbody tr th:only-of-type {\n",
       "        vertical-align: middle;\n",
       "    }\n",
       "\n",
       "    .dataframe tbody tr th {\n",
       "        vertical-align: top;\n",
       "    }\n",
       "\n",
       "    .dataframe thead th {\n",
       "        text-align: right;\n",
       "    }\n",
       "</style>\n",
       "<table border=\"1\" class=\"dataframe\">\n",
       "  <thead>\n",
       "    <tr style=\"text-align: right;\">\n",
       "      <th></th>\n",
       "      <th>plannedEfficiency</th>\n",
       "      <th>standardMinuteValue</th>\n",
       "      <th>workInProgress</th>\n",
       "      <th>overtimeMinutes</th>\n",
       "      <th>performanceBonus</th>\n",
       "      <th>idleMinutes</th>\n",
       "      <th>idleWorkers</th>\n",
       "      <th>workerCount</th>\n",
       "      <th>efficiencyScore</th>\n",
       "    </tr>\n",
       "  </thead>\n",
       "  <tbody>\n",
       "    <tr>\n",
       "      <th>count</th>\n",
       "      <td>1197.000000</td>\n",
       "      <td>1197.000000</td>\n",
       "      <td>691.000000</td>\n",
       "      <td>1197.000000</td>\n",
       "      <td>1197.000000</td>\n",
       "      <td>1197.000000</td>\n",
       "      <td>1197.000000</td>\n",
       "      <td>1197.000000</td>\n",
       "      <td>1197.000000</td>\n",
       "    </tr>\n",
       "    <tr>\n",
       "      <th>mean</th>\n",
       "      <td>0.729632</td>\n",
       "      <td>15.062172</td>\n",
       "      <td>1190.465991</td>\n",
       "      <td>4567.460317</td>\n",
       "      <td>38.210526</td>\n",
       "      <td>0.730159</td>\n",
       "      <td>0.369256</td>\n",
       "      <td>34.609858</td>\n",
       "      <td>0.735091</td>\n",
       "    </tr>\n",
       "    <tr>\n",
       "      <th>std</th>\n",
       "      <td>0.097891</td>\n",
       "      <td>10.943219</td>\n",
       "      <td>1837.455001</td>\n",
       "      <td>3348.823563</td>\n",
       "      <td>160.182643</td>\n",
       "      <td>12.709757</td>\n",
       "      <td>3.268987</td>\n",
       "      <td>22.197687</td>\n",
       "      <td>0.174488</td>\n",
       "    </tr>\n",
       "    <tr>\n",
       "      <th>min</th>\n",
       "      <td>0.070000</td>\n",
       "      <td>2.900000</td>\n",
       "      <td>7.000000</td>\n",
       "      <td>0.000000</td>\n",
       "      <td>0.000000</td>\n",
       "      <td>0.000000</td>\n",
       "      <td>0.000000</td>\n",
       "      <td>2.000000</td>\n",
       "      <td>0.233705</td>\n",
       "    </tr>\n",
       "    <tr>\n",
       "      <th>25%</th>\n",
       "      <td>0.700000</td>\n",
       "      <td>3.940000</td>\n",
       "      <td>774.500000</td>\n",
       "      <td>1440.000000</td>\n",
       "      <td>0.000000</td>\n",
       "      <td>0.000000</td>\n",
       "      <td>0.000000</td>\n",
       "      <td>9.000000</td>\n",
       "      <td>0.650307</td>\n",
       "    </tr>\n",
       "    <tr>\n",
       "      <th>50%</th>\n",
       "      <td>0.750000</td>\n",
       "      <td>15.260000</td>\n",
       "      <td>1039.000000</td>\n",
       "      <td>3960.000000</td>\n",
       "      <td>0.000000</td>\n",
       "      <td>0.000000</td>\n",
       "      <td>0.000000</td>\n",
       "      <td>34.000000</td>\n",
       "      <td>0.773333</td>\n",
       "    </tr>\n",
       "    <tr>\n",
       "      <th>75%</th>\n",
       "      <td>0.800000</td>\n",
       "      <td>24.260000</td>\n",
       "      <td>1252.500000</td>\n",
       "      <td>6960.000000</td>\n",
       "      <td>50.000000</td>\n",
       "      <td>0.000000</td>\n",
       "      <td>0.000000</td>\n",
       "      <td>57.000000</td>\n",
       "      <td>0.850253</td>\n",
       "    </tr>\n",
       "    <tr>\n",
       "      <th>max</th>\n",
       "      <td>0.800000</td>\n",
       "      <td>54.560000</td>\n",
       "      <td>23122.000000</td>\n",
       "      <td>25920.000000</td>\n",
       "      <td>3600.000000</td>\n",
       "      <td>300.000000</td>\n",
       "      <td>45.000000</td>\n",
       "      <td>89.000000</td>\n",
       "      <td>1.120437</td>\n",
       "    </tr>\n",
       "  </tbody>\n",
       "</table>\n",
       "</div>"
      ],
      "text/plain": [
       "       plannedEfficiency  standardMinuteValue  workInProgress  \\\n",
       "count        1197.000000          1197.000000      691.000000   \n",
       "mean            0.729632            15.062172     1190.465991   \n",
       "std             0.097891            10.943219     1837.455001   \n",
       "min             0.070000             2.900000        7.000000   \n",
       "25%             0.700000             3.940000      774.500000   \n",
       "50%             0.750000            15.260000     1039.000000   \n",
       "75%             0.800000            24.260000     1252.500000   \n",
       "max             0.800000            54.560000    23122.000000   \n",
       "\n",
       "       overtimeMinutes  performanceBonus  idleMinutes  idleWorkers  \\\n",
       "count      1197.000000       1197.000000  1197.000000  1197.000000   \n",
       "mean       4567.460317         38.210526     0.730159     0.369256   \n",
       "std        3348.823563        160.182643    12.709757     3.268987   \n",
       "min           0.000000          0.000000     0.000000     0.000000   \n",
       "25%        1440.000000          0.000000     0.000000     0.000000   \n",
       "50%        3960.000000          0.000000     0.000000     0.000000   \n",
       "75%        6960.000000         50.000000     0.000000     0.000000   \n",
       "max       25920.000000       3600.000000   300.000000    45.000000   \n",
       "\n",
       "       workerCount  efficiencyScore  \n",
       "count  1197.000000      1197.000000  \n",
       "mean     34.609858         0.735091  \n",
       "std      22.197687         0.174488  \n",
       "min       2.000000         0.233705  \n",
       "25%       9.000000         0.650307  \n",
       "50%      34.000000         0.773333  \n",
       "75%      57.000000         0.850253  \n",
       "max      89.000000         1.120437  "
      ]
     },
     "execution_count": 5,
     "metadata": {},
     "output_type": "execute_result"
    }
   ],
   "source": [
    "df.describe()"
   ]
  },
  {
   "cell_type": "code",
   "execution_count": 6,
   "metadata": {},
   "outputs": [
    {
     "data": {
      "text/html": [
       "<div>\n",
       "<style scoped>\n",
       "    .dataframe tbody tr th:only-of-type {\n",
       "        vertical-align: middle;\n",
       "    }\n",
       "\n",
       "    .dataframe tbody tr th {\n",
       "        vertical-align: top;\n",
       "    }\n",
       "\n",
       "    .dataframe thead th {\n",
       "        text-align: right;\n",
       "    }\n",
       "</style>\n",
       "<table border=\"1\" class=\"dataframe\">\n",
       "  <thead>\n",
       "    <tr style=\"text-align: right;\">\n",
       "      <th></th>\n",
       "      <th>recordDate</th>\n",
       "      <th>fiscalQuarter</th>\n",
       "      <th>productionDept</th>\n",
       "      <th>dayOfWeek</th>\n",
       "      <th>team</th>\n",
       "      <th>plannedEfficiency</th>\n",
       "      <th>standardMinuteValue</th>\n",
       "      <th>workInProgress</th>\n",
       "      <th>overtimeMinutes</th>\n",
       "      <th>performanceBonus</th>\n",
       "      <th>idleMinutes</th>\n",
       "      <th>idleWorkers</th>\n",
       "      <th>styleChangeCount</th>\n",
       "      <th>workerCount</th>\n",
       "      <th>efficiencyScore</th>\n",
       "    </tr>\n",
       "  </thead>\n",
       "  <tbody>\n",
       "    <tr>\n",
       "      <th>2</th>\n",
       "      <td>01-06-2015</td>\n",
       "      <td>Q1</td>\n",
       "      <td>Finishing &amp; Quality</td>\n",
       "      <td>Tuesday</td>\n",
       "      <td>Line-C2</td>\n",
       "      <td>0.8</td>\n",
       "      <td>2.90</td>\n",
       "      <td>NaN</td>\n",
       "      <td>1440</td>\n",
       "      <td>0</td>\n",
       "      <td>0.0</td>\n",
       "      <td>0</td>\n",
       "      <td>No Style Change</td>\n",
       "      <td>8.0</td>\n",
       "      <td>0.681061</td>\n",
       "    </tr>\n",
       "    <tr>\n",
       "      <th>3</th>\n",
       "      <td>2/24/2015</td>\n",
       "      <td>Q4</td>\n",
       "      <td>Finishing &amp; Quality</td>\n",
       "      <td>Tuesday</td>\n",
       "      <td>Line-S2</td>\n",
       "      <td>0.7</td>\n",
       "      <td>3.90</td>\n",
       "      <td>NaN</td>\n",
       "      <td>960</td>\n",
       "      <td>0</td>\n",
       "      <td>0.0</td>\n",
       "      <td>0</td>\n",
       "      <td>No Style Change</td>\n",
       "      <td>8.0</td>\n",
       "      <td>0.325000</td>\n",
       "    </tr>\n",
       "    <tr>\n",
       "      <th>4</th>\n",
       "      <td>01-04-2015</td>\n",
       "      <td>Q1</td>\n",
       "      <td>Finishing &amp; Quality</td>\n",
       "      <td>Sunday</td>\n",
       "      <td>Line-C1</td>\n",
       "      <td>0.8</td>\n",
       "      <td>2.90</td>\n",
       "      <td>NaN</td>\n",
       "      <td>960</td>\n",
       "      <td>0</td>\n",
       "      <td>0.0</td>\n",
       "      <td>0</td>\n",
       "      <td>No Style Change</td>\n",
       "      <td>8.0</td>\n",
       "      <td>0.667604</td>\n",
       "    </tr>\n",
       "    <tr>\n",
       "      <th>6</th>\n",
       "      <td>2/26/2015</td>\n",
       "      <td>Q4</td>\n",
       "      <td>Finishing &amp; Quality</td>\n",
       "      <td>Thursday</td>\n",
       "      <td>Line-S1</td>\n",
       "      <td>0.5</td>\n",
       "      <td>3.94</td>\n",
       "      <td>NaN</td>\n",
       "      <td>3360</td>\n",
       "      <td>0</td>\n",
       "      <td>0.0</td>\n",
       "      <td>0</td>\n",
       "      <td>No Style Change</td>\n",
       "      <td>8.0</td>\n",
       "      <td>0.768847</td>\n",
       "    </tr>\n",
       "    <tr>\n",
       "      <th>7</th>\n",
       "      <td>2/28/2015</td>\n",
       "      <td>Q4</td>\n",
       "      <td>Finishing &amp; Quality</td>\n",
       "      <td>Saturday</td>\n",
       "      <td>Line-S1</td>\n",
       "      <td>0.5</td>\n",
       "      <td>3.94</td>\n",
       "      <td>NaN</td>\n",
       "      <td>3360</td>\n",
       "      <td>0</td>\n",
       "      <td>0.0</td>\n",
       "      <td>0</td>\n",
       "      <td>No Style Change</td>\n",
       "      <td>8.0</td>\n",
       "      <td>0.768847</td>\n",
       "    </tr>\n",
       "  </tbody>\n",
       "</table>\n",
       "</div>"
      ],
      "text/plain": [
       "   recordDate fiscalQuarter         productionDept dayOfWeek     team  \\\n",
       "2  01-06-2015            Q1   Finishing & Quality    Tuesday  Line-C2   \n",
       "3   2/24/2015            Q4    Finishing & Quality   Tuesday  Line-S2   \n",
       "4  01-04-2015            Q1   Finishing & Quality     Sunday  Line-C1   \n",
       "6   2/26/2015            Q4    Finishing & Quality  Thursday  Line-S1   \n",
       "7   2/28/2015            Q4    Finishing & Quality  Saturday  Line-S1   \n",
       "\n",
       "   plannedEfficiency  standardMinuteValue  workInProgress  overtimeMinutes  \\\n",
       "2                0.8                 2.90             NaN             1440   \n",
       "3                0.7                 3.90             NaN              960   \n",
       "4                0.8                 2.90             NaN              960   \n",
       "6                0.5                 3.94             NaN             3360   \n",
       "7                0.5                 3.94             NaN             3360   \n",
       "\n",
       "   performanceBonus  idleMinutes  idleWorkers styleChangeCount  workerCount  \\\n",
       "2                 0          0.0            0  No Style Change          8.0   \n",
       "3                 0          0.0            0  No Style Change          8.0   \n",
       "4                 0          0.0            0  No Style Change          8.0   \n",
       "6                 0          0.0            0  No Style Change          8.0   \n",
       "7                 0          0.0            0  No Style Change          8.0   \n",
       "\n",
       "   efficiencyScore  \n",
       "2         0.681061  \n",
       "3         0.325000  \n",
       "4         0.667604  \n",
       "6         0.768847  \n",
       "7         0.768847  "
      ]
     },
     "execution_count": 6,
     "metadata": {},
     "output_type": "execute_result"
    }
   ],
   "source": [
    "df = df[df['productionDept'] != 'Stitching Unit']\n",
    "df.head()"
   ]
  },
  {
   "cell_type": "code",
   "execution_count": 7,
   "id": "06c5eec2",
   "metadata": {},
   "outputs": [
    {
     "data": {
      "text/plain": [
       "productionDept\n",
       " Finishing & Quality     257\n",
       "Finishing & Quality      249\n",
       "Name: count, dtype: int64"
      ]
     },
     "execution_count": 7,
     "metadata": {},
     "output_type": "execute_result"
    }
   ],
   "source": [
    "df['productionDept'].value_counts()"
   ]
  },
  {
   "cell_type": "code",
   "execution_count": 8,
   "id": "023ea870",
   "metadata": {},
   "outputs": [
    {
     "data": {
      "text/html": [
       "<div>\n",
       "<style scoped>\n",
       "    .dataframe tbody tr th:only-of-type {\n",
       "        vertical-align: middle;\n",
       "    }\n",
       "\n",
       "    .dataframe tbody tr th {\n",
       "        vertical-align: top;\n",
       "    }\n",
       "\n",
       "    .dataframe thead th {\n",
       "        text-align: right;\n",
       "    }\n",
       "</style>\n",
       "<table border=\"1\" class=\"dataframe\">\n",
       "  <thead>\n",
       "    <tr style=\"text-align: right;\">\n",
       "      <th></th>\n",
       "      <th>fiscalQuarter</th>\n",
       "      <th>dayOfWeek</th>\n",
       "      <th>team</th>\n",
       "      <th>plannedEfficiency</th>\n",
       "      <th>standardMinuteValue</th>\n",
       "      <th>workInProgress</th>\n",
       "      <th>overtimeMinutes</th>\n",
       "      <th>performanceBonus</th>\n",
       "      <th>idleMinutes</th>\n",
       "      <th>idleWorkers</th>\n",
       "      <th>styleChangeCount</th>\n",
       "      <th>workerCount</th>\n",
       "      <th>efficiencyScore</th>\n",
       "    </tr>\n",
       "  </thead>\n",
       "  <tbody>\n",
       "    <tr>\n",
       "      <th>2</th>\n",
       "      <td>Q1</td>\n",
       "      <td>Tuesday</td>\n",
       "      <td>Line-C2</td>\n",
       "      <td>0.8</td>\n",
       "      <td>2.90</td>\n",
       "      <td>NaN</td>\n",
       "      <td>1440</td>\n",
       "      <td>0</td>\n",
       "      <td>0.0</td>\n",
       "      <td>0</td>\n",
       "      <td>No Style Change</td>\n",
       "      <td>8.0</td>\n",
       "      <td>0.681061</td>\n",
       "    </tr>\n",
       "    <tr>\n",
       "      <th>3</th>\n",
       "      <td>Q4</td>\n",
       "      <td>Tuesday</td>\n",
       "      <td>Line-S2</td>\n",
       "      <td>0.7</td>\n",
       "      <td>3.90</td>\n",
       "      <td>NaN</td>\n",
       "      <td>960</td>\n",
       "      <td>0</td>\n",
       "      <td>0.0</td>\n",
       "      <td>0</td>\n",
       "      <td>No Style Change</td>\n",
       "      <td>8.0</td>\n",
       "      <td>0.325000</td>\n",
       "    </tr>\n",
       "    <tr>\n",
       "      <th>4</th>\n",
       "      <td>Q1</td>\n",
       "      <td>Sunday</td>\n",
       "      <td>Line-C1</td>\n",
       "      <td>0.8</td>\n",
       "      <td>2.90</td>\n",
       "      <td>NaN</td>\n",
       "      <td>960</td>\n",
       "      <td>0</td>\n",
       "      <td>0.0</td>\n",
       "      <td>0</td>\n",
       "      <td>No Style Change</td>\n",
       "      <td>8.0</td>\n",
       "      <td>0.667604</td>\n",
       "    </tr>\n",
       "    <tr>\n",
       "      <th>6</th>\n",
       "      <td>Q4</td>\n",
       "      <td>Thursday</td>\n",
       "      <td>Line-S1</td>\n",
       "      <td>0.5</td>\n",
       "      <td>3.94</td>\n",
       "      <td>NaN</td>\n",
       "      <td>3360</td>\n",
       "      <td>0</td>\n",
       "      <td>0.0</td>\n",
       "      <td>0</td>\n",
       "      <td>No Style Change</td>\n",
       "      <td>8.0</td>\n",
       "      <td>0.768847</td>\n",
       "    </tr>\n",
       "    <tr>\n",
       "      <th>7</th>\n",
       "      <td>Q4</td>\n",
       "      <td>Saturday</td>\n",
       "      <td>Line-S1</td>\n",
       "      <td>0.5</td>\n",
       "      <td>3.94</td>\n",
       "      <td>NaN</td>\n",
       "      <td>3360</td>\n",
       "      <td>0</td>\n",
       "      <td>0.0</td>\n",
       "      <td>0</td>\n",
       "      <td>No Style Change</td>\n",
       "      <td>8.0</td>\n",
       "      <td>0.768847</td>\n",
       "    </tr>\n",
       "  </tbody>\n",
       "</table>\n",
       "</div>"
      ],
      "text/plain": [
       "  fiscalQuarter dayOfWeek     team  plannedEfficiency  standardMinuteValue  \\\n",
       "2            Q1   Tuesday  Line-C2                0.8                 2.90   \n",
       "3            Q4   Tuesday  Line-S2                0.7                 3.90   \n",
       "4            Q1    Sunday  Line-C1                0.8                 2.90   \n",
       "6            Q4  Thursday  Line-S1                0.5                 3.94   \n",
       "7            Q4  Saturday  Line-S1                0.5                 3.94   \n",
       "\n",
       "   workInProgress  overtimeMinutes  performanceBonus  idleMinutes  \\\n",
       "2             NaN             1440                 0          0.0   \n",
       "3             NaN              960                 0          0.0   \n",
       "4             NaN              960                 0          0.0   \n",
       "6             NaN             3360                 0          0.0   \n",
       "7             NaN             3360                 0          0.0   \n",
       "\n",
       "   idleWorkers styleChangeCount  workerCount  efficiencyScore  \n",
       "2            0  No Style Change          8.0         0.681061  \n",
       "3            0  No Style Change          8.0         0.325000  \n",
       "4            0  No Style Change          8.0         0.667604  \n",
       "6            0  No Style Change          8.0         0.768847  \n",
       "7            0  No Style Change          8.0         0.768847  "
      ]
     },
     "execution_count": 8,
     "metadata": {},
     "output_type": "execute_result"
    }
   ],
   "source": [
    "df = df.drop(columns=['recordDate', 'productionDept'])\n",
    "df.head()"
   ]
  },
  {
   "cell_type": "code",
   "execution_count": 9,
   "id": "72c4d4bf",
   "metadata": {},
   "outputs": [
    {
     "data": {
      "text/plain": [
       "fiscalQuarter            0\n",
       "dayOfWeek                0\n",
       "team                     0\n",
       "plannedEfficiency        0\n",
       "standardMinuteValue      0\n",
       "workInProgress         506\n",
       "overtimeMinutes          0\n",
       "performanceBonus         0\n",
       "idleMinutes              0\n",
       "idleWorkers              0\n",
       "styleChangeCount         0\n",
       "workerCount              0\n",
       "efficiencyScore          0\n",
       "dtype: int64"
      ]
     },
     "execution_count": 9,
     "metadata": {},
     "output_type": "execute_result"
    }
   ],
   "source": [
    "df.isnull().sum()"
   ]
  },
  {
   "cell_type": "code",
   "execution_count": 10,
   "id": "fd29a152",
   "metadata": {},
   "outputs": [
    {
     "data": {
      "text/plain": [
       "(506, 13)"
      ]
     },
     "execution_count": 10,
     "metadata": {},
     "output_type": "execute_result"
    }
   ],
   "source": [
    "df.shape"
   ]
  },
  {
   "cell_type": "code",
   "execution_count": 11,
   "id": "5da19707",
   "metadata": {},
   "outputs": [
    {
     "data": {
      "text/html": [
       "<div>\n",
       "<style scoped>\n",
       "    .dataframe tbody tr th:only-of-type {\n",
       "        vertical-align: middle;\n",
       "    }\n",
       "\n",
       "    .dataframe tbody tr th {\n",
       "        vertical-align: top;\n",
       "    }\n",
       "\n",
       "    .dataframe thead th {\n",
       "        text-align: right;\n",
       "    }\n",
       "</style>\n",
       "<table border=\"1\" class=\"dataframe\">\n",
       "  <thead>\n",
       "    <tr style=\"text-align: right;\">\n",
       "      <th></th>\n",
       "      <th>fiscalQuarter</th>\n",
       "      <th>dayOfWeek</th>\n",
       "      <th>team</th>\n",
       "      <th>plannedEfficiency</th>\n",
       "      <th>standardMinuteValue</th>\n",
       "      <th>overtimeMinutes</th>\n",
       "      <th>performanceBonus</th>\n",
       "      <th>idleMinutes</th>\n",
       "      <th>idleWorkers</th>\n",
       "      <th>styleChangeCount</th>\n",
       "      <th>workerCount</th>\n",
       "      <th>efficiencyScore</th>\n",
       "    </tr>\n",
       "  </thead>\n",
       "  <tbody>\n",
       "    <tr>\n",
       "      <th>2</th>\n",
       "      <td>Q1</td>\n",
       "      <td>Tuesday</td>\n",
       "      <td>Line-C2</td>\n",
       "      <td>0.8</td>\n",
       "      <td>2.90</td>\n",
       "      <td>1440</td>\n",
       "      <td>0</td>\n",
       "      <td>0.0</td>\n",
       "      <td>0</td>\n",
       "      <td>No Style Change</td>\n",
       "      <td>8.0</td>\n",
       "      <td>0.681061</td>\n",
       "    </tr>\n",
       "    <tr>\n",
       "      <th>3</th>\n",
       "      <td>Q4</td>\n",
       "      <td>Tuesday</td>\n",
       "      <td>Line-S2</td>\n",
       "      <td>0.7</td>\n",
       "      <td>3.90</td>\n",
       "      <td>960</td>\n",
       "      <td>0</td>\n",
       "      <td>0.0</td>\n",
       "      <td>0</td>\n",
       "      <td>No Style Change</td>\n",
       "      <td>8.0</td>\n",
       "      <td>0.325000</td>\n",
       "    </tr>\n",
       "    <tr>\n",
       "      <th>4</th>\n",
       "      <td>Q1</td>\n",
       "      <td>Sunday</td>\n",
       "      <td>Line-C1</td>\n",
       "      <td>0.8</td>\n",
       "      <td>2.90</td>\n",
       "      <td>960</td>\n",
       "      <td>0</td>\n",
       "      <td>0.0</td>\n",
       "      <td>0</td>\n",
       "      <td>No Style Change</td>\n",
       "      <td>8.0</td>\n",
       "      <td>0.667604</td>\n",
       "    </tr>\n",
       "    <tr>\n",
       "      <th>6</th>\n",
       "      <td>Q4</td>\n",
       "      <td>Thursday</td>\n",
       "      <td>Line-S1</td>\n",
       "      <td>0.5</td>\n",
       "      <td>3.94</td>\n",
       "      <td>3360</td>\n",
       "      <td>0</td>\n",
       "      <td>0.0</td>\n",
       "      <td>0</td>\n",
       "      <td>No Style Change</td>\n",
       "      <td>8.0</td>\n",
       "      <td>0.768847</td>\n",
       "    </tr>\n",
       "    <tr>\n",
       "      <th>7</th>\n",
       "      <td>Q4</td>\n",
       "      <td>Saturday</td>\n",
       "      <td>Line-S1</td>\n",
       "      <td>0.5</td>\n",
       "      <td>3.94</td>\n",
       "      <td>3360</td>\n",
       "      <td>0</td>\n",
       "      <td>0.0</td>\n",
       "      <td>0</td>\n",
       "      <td>No Style Change</td>\n",
       "      <td>8.0</td>\n",
       "      <td>0.768847</td>\n",
       "    </tr>\n",
       "  </tbody>\n",
       "</table>\n",
       "</div>"
      ],
      "text/plain": [
       "  fiscalQuarter dayOfWeek     team  plannedEfficiency  standardMinuteValue  \\\n",
       "2            Q1   Tuesday  Line-C2                0.8                 2.90   \n",
       "3            Q4   Tuesday  Line-S2                0.7                 3.90   \n",
       "4            Q1    Sunday  Line-C1                0.8                 2.90   \n",
       "6            Q4  Thursday  Line-S1                0.5                 3.94   \n",
       "7            Q4  Saturday  Line-S1                0.5                 3.94   \n",
       "\n",
       "   overtimeMinutes  performanceBonus  idleMinutes  idleWorkers  \\\n",
       "2             1440                 0          0.0            0   \n",
       "3              960                 0          0.0            0   \n",
       "4              960                 0          0.0            0   \n",
       "6             3360                 0          0.0            0   \n",
       "7             3360                 0          0.0            0   \n",
       "\n",
       "  styleChangeCount  workerCount  efficiencyScore  \n",
       "2  No Style Change          8.0         0.681061  \n",
       "3  No Style Change          8.0         0.325000  \n",
       "4  No Style Change          8.0         0.667604  \n",
       "6  No Style Change          8.0         0.768847  \n",
       "7  No Style Change          8.0         0.768847  "
      ]
     },
     "execution_count": 11,
     "metadata": {},
     "output_type": "execute_result"
    }
   ],
   "source": [
    "df = df.drop(columns=['workInProgress'])\n",
    "df.head()"
   ]
  },
  {
   "cell_type": "code",
   "execution_count": 12,
   "id": "b0c8541f",
   "metadata": {},
   "outputs": [
    {
     "data": {
      "text/plain": [
       "performanceBonus\n",
       "0       496\n",
       "960       5\n",
       "1200      1\n",
       "1440      1\n",
       "3600      1\n",
       "1080      1\n",
       "2880      1\n",
       "Name: count, dtype: int64"
      ]
     },
     "execution_count": 12,
     "metadata": {},
     "output_type": "execute_result"
    }
   ],
   "source": [
    "df['performanceBonus'].value_counts()"
   ]
  },
  {
   "cell_type": "code",
   "execution_count": 13,
   "id": "ad925160",
   "metadata": {},
   "outputs": [
    {
     "name": "stdout",
     "output_type": "stream",
     "text": [
      "efficiencyScore        1.000000\n",
      "workerCount            0.274002\n",
      "standardMinuteValue    0.205018\n",
      "plannedEfficiency      0.097510\n",
      "overtimeMinutes        0.049609\n",
      "performanceBonus       0.013277\n",
      "idleMinutes                 NaN\n",
      "idleWorkers                 NaN\n",
      "Name: efficiencyScore, dtype: float64\n"
     ]
    }
   ],
   "source": [
    "numeric_cols = df.select_dtypes(include=['float64', 'int64']).columns\n",
    "corr_matrix = df[numeric_cols].corr()['efficiencyScore'].sort_values(ascending=False)\n",
    "print(corr_matrix)"
   ]
  },
  {
   "cell_type": "code",
   "execution_count": 14,
   "id": "bf34a0e1",
   "metadata": {},
   "outputs": [
    {
     "data": {
      "text/plain": [
       "idleMinutes\n",
       "0.0    506\n",
       "Name: count, dtype: int64"
      ]
     },
     "execution_count": 14,
     "metadata": {},
     "output_type": "execute_result"
    }
   ],
   "source": [
    "df['idleMinutes'].value_counts()"
   ]
  },
  {
   "cell_type": "code",
   "execution_count": 15,
   "id": "87725aea",
   "metadata": {},
   "outputs": [
    {
     "data": {
      "text/plain": [
       "idleWorkers\n",
       "0    506\n",
       "Name: count, dtype: int64"
      ]
     },
     "execution_count": 15,
     "metadata": {},
     "output_type": "execute_result"
    }
   ],
   "source": [
    "df['idleWorkers'].value_counts()"
   ]
  },
  {
   "cell_type": "code",
   "execution_count": 16,
   "id": "79ccb0f5",
   "metadata": {},
   "outputs": [
    {
     "data": {
      "text/plain": [
       "styleChangeCount\n",
       "No Style Change    506\n",
       "Name: count, dtype: int64"
      ]
     },
     "execution_count": 16,
     "metadata": {},
     "output_type": "execute_result"
    }
   ],
   "source": [
    "df['styleChangeCount'].value_counts()"
   ]
  },
  {
   "cell_type": "code",
   "execution_count": 17,
   "id": "52ab0230",
   "metadata": {},
   "outputs": [
    {
     "data": {
      "text/html": [
       "<div>\n",
       "<style scoped>\n",
       "    .dataframe tbody tr th:only-of-type {\n",
       "        vertical-align: middle;\n",
       "    }\n",
       "\n",
       "    .dataframe tbody tr th {\n",
       "        vertical-align: top;\n",
       "    }\n",
       "\n",
       "    .dataframe thead th {\n",
       "        text-align: right;\n",
       "    }\n",
       "</style>\n",
       "<table border=\"1\" class=\"dataframe\">\n",
       "  <thead>\n",
       "    <tr style=\"text-align: right;\">\n",
       "      <th></th>\n",
       "      <th>fiscalQuarter</th>\n",
       "      <th>dayOfWeek</th>\n",
       "      <th>team</th>\n",
       "      <th>plannedEfficiency</th>\n",
       "      <th>standardMinuteValue</th>\n",
       "      <th>overtimeMinutes</th>\n",
       "      <th>workerCount</th>\n",
       "      <th>efficiencyScore</th>\n",
       "    </tr>\n",
       "  </thead>\n",
       "  <tbody>\n",
       "    <tr>\n",
       "      <th>2</th>\n",
       "      <td>Q1</td>\n",
       "      <td>Tuesday</td>\n",
       "      <td>Line-C2</td>\n",
       "      <td>0.8</td>\n",
       "      <td>2.90</td>\n",
       "      <td>1440</td>\n",
       "      <td>8.0</td>\n",
       "      <td>0.681061</td>\n",
       "    </tr>\n",
       "    <tr>\n",
       "      <th>3</th>\n",
       "      <td>Q4</td>\n",
       "      <td>Tuesday</td>\n",
       "      <td>Line-S2</td>\n",
       "      <td>0.7</td>\n",
       "      <td>3.90</td>\n",
       "      <td>960</td>\n",
       "      <td>8.0</td>\n",
       "      <td>0.325000</td>\n",
       "    </tr>\n",
       "    <tr>\n",
       "      <th>4</th>\n",
       "      <td>Q1</td>\n",
       "      <td>Sunday</td>\n",
       "      <td>Line-C1</td>\n",
       "      <td>0.8</td>\n",
       "      <td>2.90</td>\n",
       "      <td>960</td>\n",
       "      <td>8.0</td>\n",
       "      <td>0.667604</td>\n",
       "    </tr>\n",
       "    <tr>\n",
       "      <th>6</th>\n",
       "      <td>Q4</td>\n",
       "      <td>Thursday</td>\n",
       "      <td>Line-S1</td>\n",
       "      <td>0.5</td>\n",
       "      <td>3.94</td>\n",
       "      <td>3360</td>\n",
       "      <td>8.0</td>\n",
       "      <td>0.768847</td>\n",
       "    </tr>\n",
       "    <tr>\n",
       "      <th>7</th>\n",
       "      <td>Q4</td>\n",
       "      <td>Saturday</td>\n",
       "      <td>Line-S1</td>\n",
       "      <td>0.5</td>\n",
       "      <td>3.94</td>\n",
       "      <td>3360</td>\n",
       "      <td>8.0</td>\n",
       "      <td>0.768847</td>\n",
       "    </tr>\n",
       "  </tbody>\n",
       "</table>\n",
       "</div>"
      ],
      "text/plain": [
       "  fiscalQuarter dayOfWeek     team  plannedEfficiency  standardMinuteValue  \\\n",
       "2            Q1   Tuesday  Line-C2                0.8                 2.90   \n",
       "3            Q4   Tuesday  Line-S2                0.7                 3.90   \n",
       "4            Q1    Sunday  Line-C1                0.8                 2.90   \n",
       "6            Q4  Thursday  Line-S1                0.5                 3.94   \n",
       "7            Q4  Saturday  Line-S1                0.5                 3.94   \n",
       "\n",
       "   overtimeMinutes  workerCount  efficiencyScore  \n",
       "2             1440          8.0         0.681061  \n",
       "3              960          8.0         0.325000  \n",
       "4              960          8.0         0.667604  \n",
       "6             3360          8.0         0.768847  \n",
       "7             3360          8.0         0.768847  "
      ]
     },
     "execution_count": 17,
     "metadata": {},
     "output_type": "execute_result"
    }
   ],
   "source": [
    "df = df.drop(columns=['idleMinutes', 'idleWorkers', 'styleChangeCount', 'performanceBonus'])\n",
    "df.head()"
   ]
  },
  {
   "cell_type": "code",
   "execution_count": 18,
   "id": "6f136929",
   "metadata": {},
   "outputs": [
    {
     "data": {
      "text/plain": [
       "(506, 8)"
      ]
     },
     "execution_count": 18,
     "metadata": {},
     "output_type": "execute_result"
    }
   ],
   "source": [
    "df.shape"
   ]
  },
  {
   "cell_type": "code",
   "execution_count": 19,
   "id": "8143a48d",
   "metadata": {},
   "outputs": [
    {
     "data": {
      "text/plain": [
       "fiscalQuarter\n",
       "Q1    149\n",
       "Q2    147\n",
       "Q4    108\n",
       "Q3     81\n",
       "Q5     21\n",
       "Name: count, dtype: int64"
      ]
     },
     "execution_count": 19,
     "metadata": {},
     "output_type": "execute_result"
    }
   ],
   "source": [
    "df['fiscalQuarter'].value_counts()"
   ]
  },
  {
   "cell_type": "code",
   "execution_count": 20,
   "id": "98480258",
   "metadata": {},
   "outputs": [
    {
     "data": {
      "text/plain": [
       "dayOfWeek\n",
       "Wednesday    89\n",
       "Sunday       87\n",
       "Tuesday      83\n",
       "Saturday     83\n",
       "Monday       83\n",
       "Thursday     81\n",
       "Name: count, dtype: int64"
      ]
     },
     "execution_count": 20,
     "metadata": {},
     "output_type": "execute_result"
    }
   ],
   "source": [
    "df['dayOfWeek'].value_counts()"
   ]
  },
  {
   "cell_type": "code",
   "execution_count": 21,
   "metadata": {},
   "outputs": [
    {
     "data": {
      "text/plain": [
       "team\n",
       "Line-C2    53\n",
       "Line-S2    52\n",
       "Line-S1    49\n",
       "Line-F1    46\n",
       "Line-Q1    46\n",
       "Line-Q2    43\n",
       "Line-C1    41\n",
       "Line-P2    40\n",
       "Line-S3    37\n",
       "Line-F2    35\n",
       "Line-F3    35\n",
       "Line-P1    29\n",
       "Name: count, dtype: int64"
      ]
     },
     "execution_count": 21,
     "metadata": {},
     "output_type": "execute_result"
    }
   ],
   "source": [
    "df['team'].value_counts()"
   ]
  },
  {
   "cell_type": "code",
   "execution_count": 22,
   "id": "b8c60a31",
   "metadata": {},
   "outputs": [
    {
     "name": "stdout",
     "output_type": "stream",
     "text": [
      "efficiencyScore        1.000000\n",
      "workerCount            0.274002\n",
      "standardMinuteValue    0.205018\n",
      "plannedEfficiency      0.097510\n",
      "overtimeMinutes        0.049609\n",
      "Name: efficiencyScore, dtype: float64\n"
     ]
    }
   ],
   "source": [
    "numeric_cols = df.select_dtypes(include=['float64', 'int64']).columns\n",
    "corr_matrix = df[numeric_cols].corr()['efficiencyScore'].sort_values(ascending=False)\n",
    "print(corr_matrix)"
   ]
  },
  {
   "cell_type": "code",
   "execution_count": 23,
   "id": "2e2f4144",
   "metadata": {},
   "outputs": [
    {
     "data": {
      "text/html": [
       "<div>\n",
       "<style scoped>\n",
       "    .dataframe tbody tr th:only-of-type {\n",
       "        vertical-align: middle;\n",
       "    }\n",
       "\n",
       "    .dataframe tbody tr th {\n",
       "        vertical-align: top;\n",
       "    }\n",
       "\n",
       "    .dataframe thead th {\n",
       "        text-align: right;\n",
       "    }\n",
       "</style>\n",
       "<table border=\"1\" class=\"dataframe\">\n",
       "  <thead>\n",
       "    <tr style=\"text-align: right;\">\n",
       "      <th></th>\n",
       "      <th>fiscalQuarter</th>\n",
       "      <th>dayOfWeek</th>\n",
       "      <th>team</th>\n",
       "      <th>plannedEfficiency</th>\n",
       "      <th>standardMinuteValue</th>\n",
       "      <th>overtimeMinutes</th>\n",
       "      <th>workerCount</th>\n",
       "      <th>efficiencyScore</th>\n",
       "    </tr>\n",
       "  </thead>\n",
       "  <tbody>\n",
       "    <tr>\n",
       "      <th>2</th>\n",
       "      <td>Q1</td>\n",
       "      <td>Tuesday</td>\n",
       "      <td>Line-C2</td>\n",
       "      <td>0.8</td>\n",
       "      <td>2.90</td>\n",
       "      <td>1440</td>\n",
       "      <td>8.0</td>\n",
       "      <td>0.681061</td>\n",
       "    </tr>\n",
       "    <tr>\n",
       "      <th>3</th>\n",
       "      <td>Q4</td>\n",
       "      <td>Tuesday</td>\n",
       "      <td>Line-S2</td>\n",
       "      <td>0.7</td>\n",
       "      <td>3.90</td>\n",
       "      <td>960</td>\n",
       "      <td>8.0</td>\n",
       "      <td>0.325000</td>\n",
       "    </tr>\n",
       "    <tr>\n",
       "      <th>4</th>\n",
       "      <td>Q1</td>\n",
       "      <td>Sunday</td>\n",
       "      <td>Line-C1</td>\n",
       "      <td>0.8</td>\n",
       "      <td>2.90</td>\n",
       "      <td>960</td>\n",
       "      <td>8.0</td>\n",
       "      <td>0.667604</td>\n",
       "    </tr>\n",
       "    <tr>\n",
       "      <th>6</th>\n",
       "      <td>Q4</td>\n",
       "      <td>Thursday</td>\n",
       "      <td>Line-S1</td>\n",
       "      <td>0.5</td>\n",
       "      <td>3.94</td>\n",
       "      <td>3360</td>\n",
       "      <td>8.0</td>\n",
       "      <td>0.768847</td>\n",
       "    </tr>\n",
       "    <tr>\n",
       "      <th>7</th>\n",
       "      <td>Q4</td>\n",
       "      <td>Saturday</td>\n",
       "      <td>Line-S1</td>\n",
       "      <td>0.5</td>\n",
       "      <td>3.94</td>\n",
       "      <td>3360</td>\n",
       "      <td>8.0</td>\n",
       "      <td>0.768847</td>\n",
       "    </tr>\n",
       "  </tbody>\n",
       "</table>\n",
       "</div>"
      ],
      "text/plain": [
       "  fiscalQuarter dayOfWeek     team  plannedEfficiency  standardMinuteValue  \\\n",
       "2            Q1   Tuesday  Line-C2                0.8                 2.90   \n",
       "3            Q4   Tuesday  Line-S2                0.7                 3.90   \n",
       "4            Q1    Sunday  Line-C1                0.8                 2.90   \n",
       "6            Q4  Thursday  Line-S1                0.5                 3.94   \n",
       "7            Q4  Saturday  Line-S1                0.5                 3.94   \n",
       "\n",
       "   overtimeMinutes  workerCount  efficiencyScore  \n",
       "2             1440          8.0         0.681061  \n",
       "3              960          8.0         0.325000  \n",
       "4              960          8.0         0.667604  \n",
       "6             3360          8.0         0.768847  \n",
       "7             3360          8.0         0.768847  "
      ]
     },
     "execution_count": 23,
     "metadata": {},
     "output_type": "execute_result"
    }
   ],
   "source": [
    "df.head()"
   ]
  },
  {
   "cell_type": "markdown",
   "id": "5680d2d1",
   "metadata": {},
   "source": [
    "Data Visualization "
   ]
  },
  {
   "cell_type": "code",
   "execution_count": 24,
   "id": "7c6d2d66",
   "metadata": {},
   "outputs": [],
   "source": [
    "features = df.drop(columns=['efficiencyScore'])\n",
    "numerical_features = ['plannedEfficiency', 'standardMinuteValue', 'overtimeMinutes', 'workerCount']\n",
    "categorical_features = ['fiscalQuarter', 'dayOfWeek', 'team']\n",
    "target = 'efficiencyScore'"
   ]
  },
  {
   "cell_type": "code",
   "execution_count": 25,
   "id": "f5de3bdd",
   "metadata": {},
   "outputs": [
    {
     "name": "stderr",
     "output_type": "stream",
     "text": [
      "C:\\Users\\admin\\AppData\\Local\\Temp\\ipykernel_6384\\4162117007.py:3: FutureWarning: \n",
      "\n",
      "Passing `palette` without assigning `hue` is deprecated and will be removed in v0.14.0. Assign the `x` variable to `hue` and set `legend=False` for the same effect.\n",
      "\n",
      "  sns.barplot(x=df[col], y=df[target], palette='Set2')\n"
     ]
    },
    {
     "data": {
      "image/png": "[encoded data removed]",
      "text/plain": [
       "<Figure size 800x600 with 1 Axes>"
      ]
     },
     "metadata": {},
     "output_type": "display_data"
    },
    {
     "name": "stderr",
     "output_type": "stream",
     "text": [
      "C:\\Users\\admin\\AppData\\Local\\Temp\\ipykernel_6384\\4162117007.py:3: FutureWarning: \n",
      "\n",
      "Passing `palette` without assigning `hue` is deprecated and will be removed in v0.14.0. Assign the `x` variable to `hue` and set `legend=False` for the same effect.\n",
      "\n",
      "  sns.barplot(x=df[col], y=df[target], palette='Set2')\n"
     ]
    },
    {
     "data": {
      "image/png": "[encoded data removed]",
      "text/plain": [
       "<Figure size 800x600 with 1 Axes>"
      ]
     },
     "metadata": {},
     "output_type": "display_data"
    },
    {
     "name": "stderr",
     "output_type": "stream",
     "text": [
      "C:\\Users\\admin\\AppData\\Local\\Temp\\ipykernel_6384\\4162117007.py:3: FutureWarning: \n",
      "\n",
      "Passing `palette` without assigning `hue` is deprecated and will be removed in v0.14.0. Assign the `x` variable to `hue` and set `legend=False` for the same effect.\n",
      "\n",
      "  sns.barplot(x=df[col], y=df[target], palette='Set2')\n"
     ]
    },
    {
     "data": {
      "image/png": "[encoded data removed]",
      "text/plain": [
       "<Figure size 800x600 with 1 Axes>"
      ]
     },
     "metadata": {},
     "output_type": "display_data"
    },
    {
     "name": "stderr",
     "output_type": "stream",
     "text": [
      "C:\\Users\\admin\\AppData\\Local\\Temp\\ipykernel_6384\\4162117007.py:3: FutureWarning: \n",
      "\n",
      "Passing `palette` without assigning `hue` is deprecated and will be removed in v0.14.0. Assign the `x` variable to `hue` and set `legend=False` for the same effect.\n",
      "\n",
      "  sns.barplot(x=df[col], y=df[target], palette='Set2')\n"
     ]
    },
    {
     "data": {
      "image/png": "[encoded data removed]",
      "text/plain": [
       "<Figure size 800x600 with 1 Axes>"
      ]
     },
     "metadata": {},
     "output_type": "display_data"
    },
    {
     "name": "stderr",
     "output_type": "stream",
     "text": [
      "C:\\Users\\admin\\AppData\\Local\\Temp\\ipykernel_6384\\4162117007.py:3: FutureWarning: \n",
      "\n",
      "Passing `palette` without assigning `hue` is deprecated and will be removed in v0.14.0. Assign the `x` variable to `hue` and set `legend=False` for the same effect.\n",
      "\n",
      "  sns.barplot(x=df[col], y=df[target], palette='Set2')\n"
     ]
    },
    {
     "data": {
      "image/png": "[encoded data removed]",
      "text/plain": [
       "<Figure size 800x600 with 1 Axes>"
      ]
     },
     "metadata": {},
     "output_type": "display_data"
    },
    {
     "name": "stderr",
     "output_type": "stream",
     "text": [
      "C:\\Users\\admin\\AppData\\Local\\Temp\\ipykernel_6384\\4162117007.py:3: FutureWarning: \n",
      "\n",
      "Passing `palette` without assigning `hue` is deprecated and will be removed in v0.14.0. Assign the `x` variable to `hue` and set `legend=False` for the same effect.\n",
      "\n",
      "  sns.barplot(x=df[col], y=df[target], palette='Set2')\n"
     ]
    },
    {
     "data": {
      "image/png": "[encoded data removed]",
      "text/plain": [
       "<Figure size 800x600 with 1 Axes>"
      ]
     },
     "metadata": {},
     "output_type": "display_data"
    },
    {
     "name": "stderr",
     "output_type": "stream",
     "text": [
      "C:\\Users\\admin\\AppData\\Local\\Temp\\ipykernel_6384\\4162117007.py:3: FutureWarning: \n",
      "\n",
      "Passing `palette` without assigning `hue` is deprecated and will be removed in v0.14.0. Assign the `x` variable to `hue` and set `legend=False` for the same effect.\n",
      "\n",
      "  sns.barplot(x=df[col], y=df[target], palette='Set2')\n"
     ]
    },
    {
     "data": {
      "image/png": "[encoded data removed]",
      "text/plain": [
       "<Figure size 800x600 with 1 Axes>"
      ]
     },
     "metadata": {},
     "output_type": "display_data"
    }
   ],
   "source": [
    "for col in features:\n",
    "    plt.figure(figsize=(8, 6))\n",
    "    sns.barplot(x=df[col], y=df[target], palette='Set2')\n",
    "    plt.title(f'{col} vs {target}')\n",
    "    plt.show()"
   ]
  },
  {
   "cell_type": "code",
   "execution_count": 26,
   "id": "5d9a7cf2",
   "metadata": {},
   "outputs": [
    {
     "data": {
      "image/png": "[encoded data removed]",
      "text/plain": [
       "<Figure size 800x600 with 1 Axes>"
      ]
     },
     "metadata": {},
     "output_type": "display_data"
    },
    {
     "data": {
      "image/png": "[encoded data removed]",
      "text/plain": [
       "<Figure size 800x600 with 1 Axes>"
      ]
     },
     "metadata": {},
     "output_type": "display_data"
    }
   ],
   "source": [
    "for col in numerical_features[2:]:\n",
    "    plt.figure(figsize=(8, 6))\n",
    "    sns.scatterplot(x=df[col], y=df[target], alpha=0.7, color='steelblue')\n",
    "    plt.title(f'{col} vs {target}')\n",
    "    plt.xlabel(col)\n",
    "    plt.ylabel(target)\n",
    "    plt.tight_layout()\n",
    "    plt.show()"
   ]
  },
  {
   "cell_type": "markdown",
   "id": "16b4c30b",
   "metadata": {},
   "source": [
    "Splitting Features and Target"
   ]
  },
  {
   "cell_type": "code",
   "execution_count": 27,
   "id": "4f6deb9f",
   "metadata": {},
   "outputs": [],
   "source": [
    "X = df[['fiscalQuarter', 'dayOfWeek', 'team', 'plannedEfficiency', 'standardMinuteValue', 'overtimeMinutes', 'workerCount']]\n",
    "y = df['efficiencyScore']"
   ]
  },
  {
   "cell_type": "markdown",
   "id": "a3e142d2",
   "metadata": {},
   "source": [
    "Train Test Split\n"
   ]
  },
  {
   "cell_type": "code",
   "execution_count": 28,
   "id": "9d5c6d59",
   "metadata": {},
   "outputs": [
    {
     "data": {
      "text/plain": [
       "((404, 7), (102, 7))"
      ]
     },
     "execution_count": 28,
     "metadata": {},
     "output_type": "execute_result"
    }
   ],
   "source": [
    "from sklearn.model_selection import train_test_split\n",
    "X_train, X_test, y_train, y_test = train_test_split(X, y, test_size=0.2, random_state=42)\n",
    "X_train.shape, X_test.shape"
   ]
  },
  {
   "cell_type": "markdown",
   "id": "7fd361ff",
   "metadata": {},
   "source": [
    "Encoding Categorical Features"
   ]
  },
  {
   "cell_type": "code",
   "execution_count": 29,
   "id": "22db4f9a",
   "metadata": {},
   "outputs": [
    {
     "name": "stdout",
     "output_type": "stream",
     "text": [
      "(404, 24)\n"
     ]
    }
   ],
   "source": [
    "numerical_features = ['plannedEfficiency', 'standardMinuteValue', 'overtimeMinutes', 'workerCount']\n",
    "categorical_features = ['fiscalQuarter', 'dayOfWeek', 'team']\n",
    "from sklearn.preprocessing import OneHotEncoder\n",
    "ohe = OneHotEncoder(drop='first', sparse_output=False)\n",
    "X_train_cat = ohe.fit_transform(X_train[categorical_features])\n",
    "X_test_cat = ohe.transform(X_test[categorical_features])\n",
    "print(np.hstack((X_train[numerical_features].values, X_train_cat)).shape)"
   ]
  },
  {
   "cell_type": "code",
   "execution_count": 30,
   "id": "eec5fbdd",
   "metadata": {},
   "outputs": [],
   "source": [
    "X_train_final = pd.DataFrame(\n",
    "    np.hstack((X_train[numerical_features].values, X_train_cat)),\n",
    "    columns = numerical_features + list(ohe.get_feature_names_out(categorical_features))\n",
    ")\n",
    "\n",
    "X_test_final = pd.DataFrame(\n",
    "    np.hstack((X_test[numerical_features].values, X_test_cat)),\n",
    "    columns = numerical_features + list(ohe.get_feature_names_out(categorical_features))\n",
    ")"
   ]
  },
  {
   "cell_type": "markdown",
   "id": "edbede7b",
   "metadata": {},
   "source": [
    "Feature Scaling"
   ]
  },
  {
   "cell_type": "code",
   "execution_count": 31,
   "id": "c202e5f9",
   "metadata": {},
   "outputs": [],
   "source": [
    "from sklearn.preprocessing import StandardScaler\n",
    "scaler = StandardScaler()\n",
    "X_train_scaled = pd.DataFrame(scaler.fit_transform(X_train_final), columns=X_train_final.columns)\n",
    "X_test_scaled = pd.DataFrame(scaler.transform(X_test_final), columns=X_test_final.columns)"
   ]
  },
  {
   "cell_type": "code",
   "execution_count": 32,
   "id": "576066a3",
   "metadata": {},
   "outputs": [],
   "source": [
    "from sklearn.linear_model import LinearRegression\n",
    "from sklearn.metrics import mean_squared_error, r2_score, mean_absolute_error\n",
    "from sklearn.model_selection import cross_val_score"
   ]
  },
  {
   "cell_type": "markdown",
   "id": "2a1fbc8f",
   "metadata": {},
   "source": [
    "Linear Regression on Scaled Features"
   ]
  },
  {
   "cell_type": "code",
   "execution_count": 33,
   "id": "a3d9408f",
   "metadata": {},
   "outputs": [
    {
     "name": "stdout",
     "output_type": "stream",
     "text": [
      "Train R²: 0.21759011085447388\n",
      "Test R²: 0.25429648602420385\n",
      "Train MAE: 0.13716629894542598\n",
      "Test MAE: 0.1290477728388037\n",
      "Train RMSE: 0.17557896682038013\n",
      "Test RMSE: 0.1633556228498671\n"
     ]
    }
   ],
   "source": [
    "lr_model = LinearRegression()\n",
    "lr_model.fit(X_train_scaled, y_train)\n",
    "\n",
    "y_train_pred = lr_model.predict(X_train_scaled)\n",
    "y_test_pred = lr_model.predict(X_test_scaled)\n",
    "\n",
    "\n",
    "print(\"Train R²:\", r2_score(y_train, y_train_pred))\n",
    "print(\"Test R²:\", r2_score(y_test, y_test_pred))\n",
    "print(\"Train MAE:\", mean_absolute_error(y_train, y_train_pred))\n",
    "print(\"Test MAE:\", mean_absolute_error(y_test, y_test_pred))\n",
    "print(\"Train RMSE:\", np.sqrt(mean_squared_error(y_train, y_train_pred)))\n",
    "print(\"Test RMSE:\", np.sqrt(mean_squared_error(y_test, y_test_pred)))"
   ]
  },
  {
   "cell_type": "code",
   "execution_count": 34,
   "id": "66b92865",
   "metadata": {},
   "outputs": [
    {
     "name": "stdout",
     "output_type": "stream",
     "text": [
      "CV R²: 0.09946925356158003\n"
     ]
    }
   ],
   "source": [
    "scores = cross_val_score(lr_model, X_train_scaled, y_train, cv=3, scoring='r2')\n",
    "print(\"CV R²:\", scores.mean())"
   ]
  },
  {
   "cell_type": "markdown",
   "id": "e28e190a",
   "metadata": {},
   "source": [
    "Linear Regression on Unscaled Features"
   ]
  },
  {
   "cell_type": "code",
   "execution_count": 36,
   "id": "a62e9e5f",
   "metadata": {},
   "outputs": [
    {
     "name": "stdout",
     "output_type": "stream",
     "text": [
      "Train R²: 0.217590110854474\n",
      "Test R²: 0.2542964860242075\n",
      "Train MAE: 0.1371662989454256\n",
      "Test MAE: 0.12904777283880417\n",
      "Train RMSE: 0.17557896682038013\n",
      "Test RMSE: 0.16335562284986668\n"
     ]
    }
   ],
   "source": [
    "lr_model = LinearRegression()\n",
    "lr_model.fit(X_train_final, y_train)\n",
    "\n",
    "y_train_pred = lr_model.predict(X_train_final)\n",
    "y_test_pred = lr_model.predict(X_test_final)\n",
    "\n",
    "\n",
    "print(\"Train R²:\", r2_score(y_train, y_train_pred))\n",
    "print(\"Test R²:\", r2_score(y_test, y_test_pred))\n",
    "print(\"Train MAE:\", mean_absolute_error(y_train, y_train_pred))\n",
    "print(\"Test MAE:\", mean_absolute_error(y_test, y_test_pred))\n",
    "print(\"Train RMSE:\", np.sqrt(mean_squared_error(y_train, y_train_pred)))\n",
    "print(\"Test RMSE:\", np.sqrt(mean_squared_error(y_test, y_test_pred)))\n"
   ]
  },
  {
   "cell_type": "code",
   "execution_count": 37,
   "id": "2f06895f",
   "metadata": {},
   "outputs": [
    {
     "name": "stdout",
     "output_type": "stream",
     "text": [
      "CV R²: 0.09946925356158405\n"
     ]
    }
   ],
   "source": [
    "scores = cross_val_score(lr_model, X_train_final, y_train, cv=3, scoring='r2')\n",
    "print(\"CV R²:\", scores.mean())\n"
   ]
  },
  {
   "cell_type": "markdown",
   "id": "fcabf854",
   "metadata": {},
   "source": [
    "RandomForest Regression"
   ]
  },
  {
   "cell_type": "code",
   "execution_count": 38,
   "id": "f34f6822",
   "metadata": {},
   "outputs": [],
   "source": [
    "from sklearn.ensemble import RandomForestRegressor\n",
    "rf_model = RandomForestRegressor()\n",
    "rf_model.fit(X_train_final, y_train)\n",
    "y_train_pred = rf_model.predict(X_train_final)\n",
    "y_test_pred = rf_model.predict(X_test_final)"
   ]
  },
  {
   "cell_type": "code",
   "execution_count": 39,
   "id": "50241226",
   "metadata": {},
   "outputs": [
    {
     "name": "stdout",
     "output_type": "stream",
     "text": [
      "Train R²: 0.8867182203001756\n",
      "Test R²: 0.2019076091208123\n",
      "Train MAE: 0.05060122074913364\n",
      "Test MAE: 0.12530241552088225\n",
      "Train RMSE: 0.06680905907569798\n",
      "Test RMSE: 0.1689964486033981\n"
     ]
    }
   ],
   "source": [
    "# R²\n",
    "print(\"Train R²:\", r2_score(y_train, y_train_pred))\n",
    "print(\"Test R²:\", r2_score(y_test, y_test_pred))\n",
    "\n",
    "# MAE\n",
    "print(\"Train MAE:\", mean_absolute_error(y_train, y_train_pred))\n",
    "print(\"Test MAE:\", mean_absolute_error(y_test, y_test_pred))\n",
    "\n",
    "# RMSE\n",
    "print(\"Train RMSE:\", np.sqrt(mean_squared_error(y_train, y_train_pred)))\n",
    "print(\"Test RMSE:\", np.sqrt(mean_squared_error(y_test, y_test_pred)))"
   ]
  },
  {
   "cell_type": "code",
   "execution_count": 40,
   "id": "162c2b5e",
   "metadata": {},
   "outputs": [
    {
     "name": "stdout",
     "output_type": "stream",
     "text": [
      "CV R² (mean): 0.13056168531800796\n",
      "CV R² (mean): 0.12841704661126244\n"
     ]
    }
   ],
   "source": [
    "cv_r2 = cross_val_score(rf_model, X_train_final, y_train, cv=5, scoring='r2')\n",
    "print(\"CV R² (mean):\", cv_r2.mean())\n",
    "cv_r2 = cross_val_score(rf_model, X_train_scaled, y_train, cv=5, scoring='r2')\n",
    "print(\"CV R² (mean):\", cv_r2.mean())"
   ]
  },
  {
   "cell_type": "markdown",
   "id": "2c404365",
   "metadata": {},
   "source": [
    "HyperParameter Tuning Using GridSearchCV"
   ]
  },
  {
   "cell_type": "code",
   "execution_count": 42,
   "id": "e6fe1ce9",
   "metadata": {},
   "outputs": [
    {
     "name": "stdout",
     "output_type": "stream",
     "text": [
      "RandomForestRegressor(max_depth=20, min_samples_split=10)\n"
     ]
    }
   ],
   "source": [
    "from sklearn.model_selection import GridSearchCV\n",
    "param_grid = {\n",
    "    'n_estimators': [100, 150, 200],\n",
    "    'max_depth': [None, 10, 20, 30],\n",
    "    'min_samples_split': [2, 5, 10]\n",
    "}\n",
    "grid_search = GridSearchCV(estimator=rf_model, param_grid=param_grid, cv=3, scoring='r2', n_jobs=-1)\n",
    "grid_search.fit(X_train_final, y_train)\n",
    "best_rf_model = grid_search.best_estimator_\n",
    "print(best_rf_model)\n",
    "y_train_pred = best_rf_model.predict(X_train_final)\n",
    "y_test_pred = best_rf_model.predict(X_test_final)"
   ]
  },
  {
   "cell_type": "code",
   "execution_count": 43,
   "id": "f0f7e3cb",
   "metadata": {},
   "outputs": [
    {
     "name": "stdout",
     "output_type": "stream",
     "text": [
      "Train R²: 0.650992510820247\n",
      "Test R²: 0.32510024790023695\n",
      "Train MAE: 0.08879649776538501\n",
      "Test MAE: 0.1162288565772747\n",
      "Train RMSE: 0.11726615806623296\n",
      "Test RMSE: 0.15540701808605994\n"
     ]
    }
   ],
   "source": [
    "print(\"Train R²:\", r2_score(y_train, y_train_pred))\n",
    "print(\"Test R²:\", r2_score(y_test, y_test_pred))\n",
    "\n",
    "print(\"Train MAE:\", mean_absolute_error(y_train, y_train_pred))\n",
    "print(\"Test MAE:\", mean_absolute_error(y_test, y_test_pred))\n",
    "\n",
    "print(\"Train RMSE:\", np.sqrt(mean_squared_error(y_train, y_train_pred)))\n",
    "print(\"Test RMSE:\", np.sqrt(mean_squared_error(y_test, y_test_pred)))"
   ]
  },
  {
   "cell_type": "code",
   "execution_count": 44,
   "id": "5e484e00",
   "metadata": {},
   "outputs": [
    {
     "name": "stdout",
     "output_type": "stream",
     "text": [
      "CV R² (mean): 0.1702980376632614\n",
      "CV R² (mean): 0.18720056626897735\n"
     ]
    }
   ],
   "source": [
    "cv_r2 = cross_val_score(best_rf_model, X_train_final, y_train, cv=5, scoring='r2')\n",
    "print(\"CV R² (mean):\", cv_r2.mean())\n",
    "cv_r2 = cross_val_score(best_rf_model, X_train_scaled, y_train, cv=5, scoring='r2')\n",
    "print(\"CV R² (mean):\", cv_r2.mean())\n"
   ]
  },
  {
   "cell_type": "markdown",
   "id": "d9f474f2",
   "metadata": {},
   "source": [
    "RandomForest After Using HyperParameter Tuning"
   ]
  },
  {
   "cell_type": "code",
   "execution_count": 45,
   "id": "ceaccb96",
   "metadata": {},
   "outputs": [],
   "source": [
    "rf_model = RandomForestRegressor(max_depth=20, min_samples_split=10)\n",
    "rf_model.fit(X_train_final, y_train)\n",
    "y_train_pred = rf_model.predict(X_train_final)\n",
    "y_test_pred = rf_model.predict(X_test_final)"
   ]
  },
  {
   "cell_type": "code",
   "execution_count": 46,
   "id": "17e7cba4",
   "metadata": {},
   "outputs": [
    {
     "name": "stdout",
     "output_type": "stream",
     "text": [
      "Train R²: 0.6503326740350033\n",
      "Test R²: 0.32050490502911444\n",
      "Train MAE: 0.08795176760286176\n",
      "Test MAE: 0.11736985053871443\n",
      "Train RMSE: 0.1173769579623554\n",
      "Test RMSE: 0.15593519801598738\n"
     ]
    }
   ],
   "source": [
    "print(\"Train R²:\", r2_score(y_train, y_train_pred))\n",
    "print(\"Test R²:\", r2_score(y_test, y_test_pred))\n",
    "\n",
    "print(\"Train MAE:\", mean_absolute_error(y_train, y_train_pred))\n",
    "print(\"Test MAE:\", mean_absolute_error(y_test, y_test_pred))\n",
    "\n",
    "print(\"Train RMSE:\", np.sqrt(mean_squared_error(y_train, y_train_pred)))\n",
    "print(\"Test RMSE:\", np.sqrt(mean_squared_error(y_test, y_test_pred)))"
   ]
  },
  {
   "cell_type": "code",
   "execution_count": 47,
   "id": "e07f6bee",
   "metadata": {},
   "outputs": [
    {
     "name": "stdout",
     "output_type": "stream",
     "text": [
      "CV R² (mean): 0.1845623072815508\n",
      "CV R² (mean): 0.12298380350543363\n"
     ]
    }
   ],
   "source": [
    "cv_r2 = cross_val_score(best_rf_model, X_train_final, y_train, cv=5, scoring='r2')\n",
    "print(\"CV R² (mean):\", cv_r2.mean())\n",
    "cv_r2 = cross_val_score(best_rf_model, X_test_scaled, y_test, cv=5, scoring='r2')\n",
    "print(\"CV R² (mean):\", cv_r2.mean())"
   ]
  },
  {
   "cell_type": "markdown",
   "id": "40df6838",
   "metadata": {},
   "source": [
    "Gradient Boosting"
   ]
  },
  {
   "cell_type": "code",
   "execution_count": 48,
   "id": "45d7333d",
   "metadata": {},
   "outputs": [],
   "source": [
    "from sklearn.ensemble import GradientBoostingRegressor\n",
    "\n",
    "gbr = GradientBoostingRegressor()\n",
    "gbr.fit(X_train_final, y_train)\n",
    "\n",
    "y_train_pred = gbr.predict(X_train_final)\n",
    "y_test_pred = gbr.predict(X_test_final)"
   ]
  },
  {
   "cell_type": "code",
   "execution_count": 49,
   "id": "632a1f7e",
   "metadata": {},
   "outputs": [
    {
     "name": "stdout",
     "output_type": "stream",
     "text": [
      "Train R²: 0.6021566567504852\n",
      "Test R²: 0.2670105915779496\n",
      "Train MAE: 0.09309865030947874\n",
      "Test MAE: 0.12224740603431666\n",
      "Train RMSE: 0.12520203029720162\n",
      "Test RMSE: 0.16195704442506073\n"
     ]
    }
   ],
   "source": [
    "print(\"Train R²:\", r2_score(y_train, y_train_pred))\n",
    "print(\"Test R²:\", r2_score(y_test, y_test_pred))\n",
    "\n",
    "print(\"Train MAE:\", mean_absolute_error(y_train, y_train_pred))\n",
    "print(\"Test MAE:\", mean_absolute_error(y_test, y_test_pred))\n",
    "\n",
    "print(\"Train RMSE:\", np.sqrt(mean_squared_error(y_train, y_train_pred)))\n",
    "print(\"Test RMSE:\", np.sqrt(mean_squared_error(y_test, y_test_pred)))"
   ]
  },
  {
   "cell_type": "code",
   "execution_count": 51,
   "id": "f85d996b",
   "metadata": {},
   "outputs": [
    {
     "name": "stdout",
     "output_type": "stream",
     "text": [
      "CV R² (mean): 0.13596400189647734\n",
      "CV R² (mean): 0.1342193753472024\n"
     ]
    }
   ],
   "source": [
    "cv_r2 = cross_val_score(gbr, X_train_final, y_train, cv=5, scoring='r2')\n",
    "print(\"CV R² (mean):\", cv_r2.mean())\n",
    "cv_r2 = cross_val_score(gbr, X_train_scaled, y_train, cv=5, scoring='r2')\n",
    "print(\"CV R² (mean):\", cv_r2.mean())"
   ]
  },
  {
   "cell_type": "code",
   "execution_count": null,
   "id": "6b5f27f8",
   "metadata": {},
   "outputs": [],
   "source": []
  }
 ],
 "metadata": {
  "kernelspec": {
   "display_name": "Python 3",
   "language": "python",
   "name": "python3"
  },
  "language_info": {
   "codemirror_mode": {
    "name": "ipython",
    "version": 3
   },
   "file_extension": ".py",
   "mimetype": "text/x-python",
   "name": "python",
   "nbconvert_exporter": "python",
   "pygments_lexer": "ipython3",
   "version": "3.13.7"
  }
 },
 "nbformat": 4,
 "nbformat_minor": 5
}
